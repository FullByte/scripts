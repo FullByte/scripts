{
 "cells": [
  {
   "cell_type": "markdown",
   "id": "5bb99379",
   "metadata": {},
   "source": [
    "\\ Function for Finding Factorial"
   ]
  },
  {
   "cell_type": "code",
   "execution_count": null,
   "id": "94b0c9e3",
   "metadata": {},
   "outputs": [],
   "source": [
    "from itertools import combinations\n",
    "print([' '.join(i) for i in combinations(\"0xfab1\", 2) ])\n"
   ]
  }
 ],
 "metadata": {},
 "nbformat": 4,
 "nbformat_minor": 5
}
