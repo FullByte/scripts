{
 "cells": [
  {
   "cell_type": "markdown",
   "id": "86ff1751",
   "metadata": {},
   "source": [
    "# My first automatic Jupyter Notebook"
   ]
  },
  {
   "cell_type": "code",
   "execution_count": null,
   "id": "b69d72d7",
   "metadata": {},
   "outputs": [],
   "source": [
    "print(\"hello world\")"
   ]
  }
 ],
 "metadata": {},
 "nbformat": 4,
 "nbformat_minor": 5
}
