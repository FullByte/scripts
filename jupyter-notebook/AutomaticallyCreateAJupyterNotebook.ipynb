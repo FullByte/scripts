{
 "cells": [
  {
   "cell_type": "markdown",
   "id": "cbcaa86c",
   "metadata": {},
   "source": [
    "# My first automatic Jupyter Notebook\n",
    "This is an auto-generated notebook."
   ]
  },
  {
   "cell_type": "code",
   "execution_count": null,
   "id": "1436d53c",
   "metadata": {},
   "outputs": [],
   "source": [
    "\n",
    "import nbformat as nbf\n",
    "\n",
    "nb = nbf.v4.new_notebook()\n",
    "text = \"\"\"\\ Function for Finding Factorial\"\"\"\n",
    "\n",
    "code = \"\"\"from itertools import combinations\n",
    "print([' '.join(i) for i in combinations(\"0xfab1\", 2) ])\n",
    "\"\"\"    \n",
    "nb['cells'] = [nbf.v4.new_markdown_cell(text),\n",
    "               nbf.v4.new_code_cell(code)]\n",
    "fname = 'FindingFactorial.ipynb'\n",
    "\n",
    "with open(fname, 'w') as f:\n",
    "    nbf.write(nb, f)\n"
   ]
  }
 ],
 "metadata": {},
 "nbformat": 4,
 "nbformat_minor": 5
}
